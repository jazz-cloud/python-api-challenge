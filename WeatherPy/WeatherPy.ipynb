{
 "cells": [
  {
   "cell_type": "markdown",
   "metadata": {},
   "source": [
    "# WeatherPy\n",
    "----\n",
    "\n",
    "#### Note\n",
    "* Instructions have been included for each segment. You do not have to follow them exactly, but they are included to help you think through the steps."
   ]
  },
  {
   "cell_type": "code",
   "execution_count": 1,
   "metadata": {},
   "outputs": [],
   "source": [
    "# Dependencies and setip\n",
    "import matplotlib.pyplot as plt\n",
    "import pandas as pd\n",
    "import numpy as np\n",
    "import requests\n",
    "import time\n",
    "from scipy.stats import linregress\n",
    "\n",
    "# Import API key\n",
    "from api_keys import weather_api_key\n",
    "\n",
    "# incorporated citipy to determine city based on latitude and longiture\n",
    "from citipy import citipy"
   ]
  },
  {
   "cell_type": "code",
   "execution_count": 2,
   "metadata": {
    "scrolled": true
   },
   "outputs": [],
   "source": [
    "# output file (CSV)\n",
    "output_data_file = \"output_data/cities.csv\"\n",
    "\n",
    "# range of ltitues and longitues\n",
    "lat_range = (-90, 90)\n",
    "lng_range = (-180,180)"
   ]
  },
  {
   "cell_type": "markdown",
   "metadata": {},
   "source": [
    "## Generate Cities List"
   ]
  },
  {
   "cell_type": "code",
   "execution_count": 3,
   "metadata": {},
   "outputs": [
    {
     "data": {
      "text/plain": [
       "625"
      ]
     },
     "execution_count": 3,
     "metadata": {},
     "output_type": "execute_result"
    }
   ],
   "source": [
    "# list for holding lat_lngs and cities\n",
    "lat_lngs = []\n",
    "cities = []\n",
    "\n",
    "# Create a set of random lat and lng combinations\n",
    "lats = np.random.uniform(lat_range[0], lat_range[1], size=1500)\n",
    "lngs = np.random.uniform(lng_range[0], lng_range[1], size =1500)\n",
    "\n",
    "lat_lngs=zip(lats,lngs)\n",
    "\n",
    "# identify nearest city for each lat, lng combination\n",
    "for lat_lng in lat_lngs:\n",
    "    city = citipy.nearest_city(lat_lng[0], lat_lng[1]).city_name\n",
    "    \n",
    "    # if the city is unique, then add it to our cities list\n",
    "    if city not in cities:\n",
    "        cities.append(city)\n",
    "        \n",
    "# print the city count to confirm sufficient count\n",
    "len(cities)"
   ]
  },
  {
   "cell_type": "markdown",
   "metadata": {},
   "source": [
    "### Perform API Calls\n",
    "* Perform a weather check on each city using a series of successive API calls.\n",
    "* Include a print log of each city as it'sbeing processed (with the city number and city name).\n"
   ]
  },
  {
   "cell_type": "code",
   "execution_count": 4,
   "metadata": {},
   "outputs": [
    {
     "name": "stdout",
     "output_type": "stream",
     "text": [
      "Beginning Data Retrieval \n",
      "-----------------------------\n",
      "Processing Record (1, 'bagdarin')\n",
      "Processing Record (2, 'bethel')\n",
      "Processing Record (3, 'mataura')\n",
      "Processing Record (4, 'maragogi')\n",
      "Processing Record (5, 'bluff')\n",
      "Processing Record (6, 'longyearbyen')\n",
      "Processing Record (7, 'lalmohan')\n",
      "Processing Record (8, 'hithadhoo')\n",
      "Processing Record (9, 'kapaa')\n",
      "Processing Record (10, 'hermanus')\n",
      "Processing Record (11, 'avera')\n",
      "Processing Record (12, 'albany')\n",
      "Processing Record (13, 'meulaboh')\n",
      "Processing Record (14, 'comodoro rivadavia')\n",
      "Processing Record (15, 'kletskaya')\n",
      "Processing Record (16, 'sorong')\n",
      "Processing Record (17, 'upernavik')\n",
      "Processing Record (18, 'fairview')\n",
      "Processing Record (19, 'rikitea')\n",
      "Processing Record (20, 'tshikapa')\n",
      "Processing Record (21, 'pevek')\n",
      "Processing Record (22, 'chokurdakh')\n",
      "Processing Record (23, 'pingliang')\n",
      "Processing Record (24, 'contamana')\n",
      "Processing Record (25, 'torbay')\n",
      "Processing Record (26, 'severiano melo')\n",
      "Processing Record (27, 'yumen')\n",
      "Processing Record (28, 'padang')\n",
      "Processing Record (29, 'atuona')\n",
      "Processing Record (30, 'teluknaga')\n",
      "Processing Record (31, 'mahebourg')\n",
      "Processing Record (32, 'port elizabeth')\n",
      "Processing Record (33, 'waipawa')\n",
      "Processing Record (34, 'faya')\n",
      "City not found. Skipping...\n",
      "Processing Record (35, 'turukhansk')\n",
      "Processing Record (36, 'coquimbo')\n",
      "Processing Record (37, 'rosetta')\n",
      "Processing Record (38, 'vaini')\n",
      "Processing Record (39, 'jawor')\n",
      "Processing Record (40, 'arvika')\n",
      "Processing Record (41, 'bredasdorp')\n",
      "Processing Record (42, 'katsuura')\n",
      "Processing Record (43, 'dingzhou')\n",
      "City not found. Skipping...\n",
      "Processing Record (44, 'ushuaia')\n",
      "Processing Record (45, 'puerto ayora')\n",
      "Processing Record (46, 'nikolskoye')\n",
      "Processing Record (47, 'carnarvon')\n",
      "City not found. Skipping...\n",
      "Processing Record (48, 'kruisfontein')\n",
      "Processing Record (49, 'husavik')\n",
      "Processing Record (50, 'kemptville')\n",
      "Processing Record (51, 'abonnema')\n",
      "Processing Record (52, 'hasaki')\n",
      "Processing Record (53, 'tasiilaq')\n",
      "Processing Record (54, 'tuktoyaktuk')\n",
      "Processing Record (55, 'machali')\n",
      "Processing Record (56, 'vyartsilya')\n",
      "Processing Record (57, 'polewali')\n",
      "Processing Record (58, 'seymchan')\n",
      "Processing Record (59, 'qurayyat')\n",
      "Processing Record (60, 'hobyo')\n",
      "Processing Record (61, 'margate')\n",
      "Processing Record (62, 'oudtshoorn')\n",
      "City not found. Skipping...\n",
      "Processing Record (63, 'callaway')\n",
      "Processing Record (64, 'kodiak')\n",
      "City not found. Skipping...\n",
      "Processing Record (65, 'mbekenyera')\n",
      "Processing Record (66, 'barrow')\n",
      "Processing Record (67, 'kajaani')\n",
      "Processing Record (68, 'busselton')\n",
      "Processing Record (69, 'kieta')\n",
      "Processing Record (70, 'punta arenas')\n",
      "Processing Record (71, 'ganzhou')\n",
      "Processing Record (72, 'hami')\n",
      "Processing Record (73, 'sumenep')\n",
      "Processing Record (74, 'bud')\n",
      "Processing Record (75, 'ishigaki')\n",
      "Processing Record (76, 'lodja')\n",
      "Processing Record (77, 'lompoc')\n",
      "Processing Record (78, 'muisne')\n",
      "Processing Record (79, 'tefe')\n",
      "Processing Record (80, 'grindavik')\n",
      "Processing Record (81, 'brighton')\n",
      "City not found. Skipping...\n",
      "Processing Record (82, 'saskylakh')\n",
      "Processing Record (83, 'dakar')\n",
      "Processing Record (84, 'sao jose da coroa grande')\n",
      "Processing Record (85, 'talas')\n",
      "Processing Record (86, 'castro')\n",
      "Processing Record (87, 'guangyuan')\n",
      "Processing Record (88, 'cidreira')\n",
      "Processing Record (89, 'sarakhs')\n",
      "Processing Record (90, 'lorengau')\n",
      "Processing Record (91, 'port alfred')\n",
      "Processing Record (92, 'yulara')\n",
      "Processing Record (93, 'maua')\n",
      "Processing Record (94, 'namtsy')\n",
      "Processing Record (95, 'srednekolymsk')\n",
      "Processing Record (96, 'san cristobal')\n",
      "Processing Record (97, 'mishkino')\n",
      "Processing Record (98, 'sabang')\n",
      "Processing Record (99, 'saldanha')\n",
      "Processing Record (100, 'torres')\n",
      "Processing Record (101, 'jamestown')\n",
      "Processing Record (102, 'butaritari')\n",
      "Processing Record (103, 'cayenne')\n",
      "Processing Record (104, 'cape town')\n",
      "Processing Record (105, 'acari')\n",
      "Processing Record (106, 'narsaq')\n",
      "Processing Record (107, 'thompson')\n",
      "Processing Record (108, 'coahuayana')\n",
      "Processing Record (109, 'foz do iguacu')\n",
      "Processing Record (110, 'nome')\n",
      "Processing Record (111, 'roebourne')\n",
      "Processing Record (112, 'surat thani')\n",
      "Processing Record (113, 'balsas')\n",
      "Processing Record (114, 'airai')\n",
      "Processing Record (115, 'esperance')\n",
      "Processing Record (116, 'iki-burul')\n",
      "Processing Record (117, 'luganville')\n",
      "Processing Record (118, 'kaeo')\n",
      "Processing Record (119, 'esmeraldas')\n",
      "City not found. Skipping...\n",
      "Processing Record (120, 'banjarmasin')\n",
      "Processing Record (121, 'owo')\n",
      "Processing Record (122, 'bambous virieux')\n",
      "City not found. Skipping...\n",
      "Processing Record (123, 'abay')\n",
      "Processing Record (124, 'ponta do sol')\n",
      "Processing Record (125, 'pitimbu')\n",
      "Processing Record (126, 'altus')\n",
      "Processing Record (127, 'bubaque')\n",
      "Processing Record (128, 'clyde river')\n",
      "Processing Record (129, 'whyalla')\n",
      "Processing Record (130, 'tautira')\n",
      "Processing Record (131, 'vao')\n",
      "Processing Record (132, 'miri')\n",
      "Processing Record (133, 'limoges')\n",
      "Processing Record (134, 'inirida')\n",
      "Processing Record (135, 'georgetown')\n",
      "Processing Record (136, 'provideniya')\n",
      "Processing Record (137, 'saint-philippe')\n",
      "Processing Record (138, 'farafangana')\n",
      "Processing Record (139, 'walvis bay')\n",
      "Processing Record (140, 'betafo')\n",
      "Processing Record (141, 'churapcha')\n",
      "City not found. Skipping...\n",
      "Processing Record (142, 'kwinana')\n",
      "Processing Record (143, 'east london')\n",
      "Processing Record (144, 'pampierstad')\n",
      "Processing Record (145, 'casper')\n",
      "Processing Record (146, 'qaanaaq')\n",
      "Processing Record (147, 'lethem')\n",
      "Processing Record (148, 'ligayan')\n",
      "Processing Record (149, 'luwingu')\n",
      "Processing Record (150, 'namatanai')\n",
      "Processing Record (151, 'avarua')\n",
      "Processing Record (152, 'horsham')\n",
      "Processing Record (153, 'khatanga')\n",
      "Processing Record (154, 'chuy')\n",
      "Processing Record (155, 'acapulco')\n",
      "Processing Record (156, 'zaraza')\n",
      "Processing Record (157, 'hobart')\n",
      "Processing Record (158, 'lebu')\n",
      "Processing Record (159, 'mangrol')\n",
      "Processing Record (160, 'killybegs')\n",
      "Processing Record (161, 'tigre')\n",
      "Processing Record (162, 'te anau')\n",
      "Processing Record (163, 'lima')\n",
      "Processing Record (164, 'garissa')\n",
      "Processing Record (165, 'aykino')\n",
      "Processing Record (166, 'saint george')\n",
      "Processing Record (167, 'hilo')\n",
      "Processing Record (168, 'evanston')\n",
      "Processing Record (169, 'bozoum')\n",
      "Processing Record (170, 'gat')\n",
      "Processing Record (171, 'ribeira grande')\n",
      "Processing Record (172, 'namibe')\n",
      "Processing Record (173, 'dhandhuka')\n",
      "Processing Record (174, 'komsomolskiy')\n",
      "Processing Record (175, 'new norfolk')\n",
      "Processing Record (176, 'yellowknife')\n",
      "Processing Record (177, 'praia da vitoria')\n",
      "Processing Record (178, 'wonosobo')\n",
      "Processing Record (179, 'vilhena')\n",
      "Processing Record (180, 'boende')\n",
      "Processing Record (181, 'ventspils')\n",
      "Processing Record (182, 'itarema')\n",
      "Processing Record (183, 'caravelas')\n",
      "Processing Record (184, 'san gabriel')\n",
      "Processing Record (185, 'shingu')\n",
      "Processing Record (186, 'santa maria')\n",
      "Processing Record (187, 'souillac')\n",
      "Processing Record (188, 'labuhan')\n",
      "Processing Record (189, 'malanje')\n",
      "Processing Record (190, 'bengkulu')\n",
      "Processing Record (191, 'lukovetskiy')\n",
      "Processing Record (192, 'pochutla')\n",
      "Processing Record (193, 'nabire')\n",
      "Processing Record (194, 'geraldton')\n",
      "City not found. Skipping...\n",
      "Processing Record (195, 'harer')\n",
      "Processing Record (196, 'bueno brandao')\n",
      "Processing Record (197, 'pozo colorado')\n",
      "Processing Record (198, 'korla')\n",
      "Processing Record (199, 'luena')\n",
      "Processing Record (200, 'freeport')\n",
      "Processing Record (201, 'alvand')\n",
      "Processing Record (202, 'cabo san lucas')\n",
      "Processing Record (203, 'tateyama')\n",
      "Processing Record (204, 'malabo')\n",
      "Processing Record (205, 'moroni')\n",
      "Processing Record (206, 'aquidauana')\n",
      "Processing Record (207, 'gouyave')\n",
      "Processing Record (208, 'guerrero negro')\n",
      "Processing Record (209, 'strezhevoy')\n",
      "Processing Record (210, 'akyab')\n",
      "Processing Record (211, 'walla walla')\n",
      "City not found. Skipping...\n",
      "Processing Record (212, 'nassau')\n",
      "City not found. Skipping...\n",
      "Processing Record (213, 'mar del plata')\n",
      "Processing Record (214, 'deniliquin')\n",
      "Processing Record (215, 'tignere')\n",
      "Processing Record (216, 'plouzane')\n",
      "Processing Record (217, 'kantang')\n",
      "Processing Record (218, 'san patricio')\n",
      "Processing Record (219, 'tres arroyos')\n",
      "City not found. Skipping...\n"
     ]
    },
    {
     "name": "stdout",
     "output_type": "stream",
     "text": [
      "Processing Record (220, 'sapa')\n",
      "Processing Record (221, 'katobu')\n",
      "Processing Record (222, 'manyana')\n",
      "City not found. Skipping...\n",
      "Processing Record (223, 'havelock')\n",
      "City not found. Skipping...\n",
      "Processing Record (224, 'burns lake')\n",
      "Processing Record (225, 'oranjemund')\n",
      "Processing Record (226, 'butte')\n",
      "Processing Record (227, 'russell')\n",
      "Processing Record (228, 'san juan del parana')\n",
      "City not found. Skipping...\n",
      "Processing Record (229, 'ostrovnoy')\n",
      "Processing Record (230, 'khani')\n",
      "Processing Record (231, 'sechura')\n",
      "Processing Record (232, 'tiksi')\n",
      "Processing Record (233, 'batagay')\n",
      "Processing Record (234, 'norman wells')\n",
      "Processing Record (235, 'boca do acre')\n",
      "Processing Record (236, 'olinda')\n",
      "City not found. Skipping...\n",
      "Processing Record (237, 'bolu')\n",
      "Processing Record (238, 'gazojak')\n",
      "Processing Record (239, 'gurupi')\n",
      "Processing Record (240, 'calabozo')\n",
      "Processing Record (241, 'armeria')\n",
      "City not found. Skipping...\n",
      "Processing Record (242, 'dikson')\n",
      "Processing Record (243, 'sao filipe')\n",
      "City not found. Skipping...\n",
      "Processing Record (244, 'flinders')\n",
      "City not found. Skipping...\n",
      "City not found. Skipping...\n",
      "Processing Record (245, 'chaihe')\n",
      "Processing Record (246, 'veraval')\n",
      "Processing Record (247, 'nyazepetrovsk')\n",
      "Processing Record (248, 'shillong')\n",
      "Processing Record (249, 'talaya')\n",
      "Processing Record (250, 'henties bay')\n",
      "Processing Record (251, 'qandala')\n",
      "Processing Record (252, 'rio gallegos')\n",
      "City not found. Skipping...\n",
      "Processing Record (253, 'waddan')\n",
      "Processing Record (254, 'pisco')\n",
      "Processing Record (255, 'smoky lake')\n",
      "Processing Record (256, 'belmonte')\n",
      "Processing Record (257, 'norrtalje')\n",
      "Processing Record (258, 'kavieng')\n",
      "Processing Record (259, 'jinan')\n",
      "Processing Record (260, 'omboue')\n",
      "Processing Record (261, 'christchurch')\n",
      "Processing Record (262, 'rovaniemi')\n",
      "Processing Record (263, 'zyryanka')\n",
      "Processing Record (264, 'ahuimanu')\n",
      "Processing Record (265, 'mendeleyevo')\n",
      "Processing Record (266, 'la baule-escoublac')\n",
      "Processing Record (267, 'broome')\n",
      "Processing Record (268, 'kargil')\n",
      "Processing Record (269, 'havre-saint-pierre')\n",
      "Processing Record (270, 'beringovskiy')\n",
      "Processing Record (271, 'general roca')\n",
      "City not found. Skipping...\n",
      "City not found. Skipping...\n",
      "Processing Record (272, 'port lincoln')\n",
      "Processing Record (273, 'zhigansk')\n",
      "Processing Record (274, 'kahului')\n",
      "Processing Record (275, 'iracoubo')\n",
      "Processing Record (276, 'kontagora')\n",
      "Processing Record (277, 'touros')\n",
      "Processing Record (278, 'ahipara')\n",
      "Processing Record (279, 'buchanan')\n",
      "Processing Record (280, 'biak')\n",
      "Processing Record (281, 'conde')\n",
      "Processing Record (282, 'arnprior')\n",
      "Processing Record (283, 'leningradskiy')\n",
      "Processing Record (284, 'jalu')\n",
      "Processing Record (285, 'neiafu')\n",
      "Processing Record (286, 'jasper')\n",
      "Processing Record (287, 'brae')\n",
      "Processing Record (288, 'kaniama')\n",
      "Processing Record (289, 'bilibino')\n",
      "Processing Record (290, 'aklavik')\n",
      "Processing Record (291, 'arraial do cabo')\n",
      "Processing Record (292, 'cherskiy')\n",
      "City not found. Skipping...\n",
      "Processing Record (293, 'banda aceh')\n",
      "Processing Record (294, 'nuuk')\n",
      "Processing Record (295, 'ketchikan')\n",
      "Processing Record (296, 'antalaha')\n",
      "City not found. Skipping...\n",
      "Processing Record (297, 'port-cartier')\n",
      "Processing Record (298, 'harper')\n",
      "Processing Record (299, 'vardo')\n",
      "Processing Record (300, 'abu kamal')\n",
      "Processing Record (301, 'uglegorsk')\n",
      "Processing Record (302, 'chateaubelair')\n",
      "Processing Record (303, 'fare')\n",
      "Processing Record (304, 'northam')\n",
      "Processing Record (305, 'port hardy')\n",
      "Processing Record (306, 'yerbogachen')\n",
      "Processing Record (307, 'kloulklubed')\n",
      "Processing Record (308, 'taoudenni')\n",
      "Processing Record (309, 'yantal')\n",
      "Processing Record (310, 'coolum beach')\n",
      "Processing Record (311, 'nanortalik')\n",
      "City not found. Skipping...\n",
      "Processing Record (312, 'camacha')\n",
      "City not found. Skipping...\n",
      "Processing Record (313, 'constitucion')\n",
      "Processing Record (314, 'lekoni')\n",
      "Processing Record (315, 'kantemirovka')\n",
      "Processing Record (316, 'navalmoral de la mata')\n",
      "Processing Record (317, 'poronaysk')\n",
      "Processing Record (318, 'victoria')\n",
      "Processing Record (319, 'faanui')\n",
      "City not found. Skipping...\n",
      "Processing Record (320, 'port augusta')\n",
      "Processing Record (321, 'berbera')\n",
      "Processing Record (322, 'kirakira')\n",
      "Processing Record (323, 'iqaluit')\n",
      "Processing Record (324, 'la ronge')\n",
      "Processing Record (325, 'hovd')\n",
      "Processing Record (326, 'jamkhed')\n",
      "Processing Record (327, 'belaya gora')\n",
      "Processing Record (328, 'merrill')\n",
      "Processing Record (329, 'krasnoselkup')\n",
      "Processing Record (330, 'mawlaik')\n",
      "Processing Record (331, 'severo-kurilsk')\n",
      "Processing Record (332, 'cururupu')\n",
      "Processing Record (333, 'chicama')\n",
      "Processing Record (334, 'rio grande')\n",
      "Processing Record (335, 'nueve de julio')\n",
      "Processing Record (336, 'karpathos')\n",
      "Processing Record (337, 'hamilton')\n",
      "Processing Record (338, 'shamary')\n",
      "Processing Record (339, 'sungaipenuh')\n",
      "Processing Record (340, 'aitape')\n",
      "Processing Record (341, 'starychi')\n",
      "City not found. Skipping...\n",
      "Processing Record (342, 'amuntai')\n",
      "Processing Record (343, 'ivanovka')\n",
      "Processing Record (344, 'charlestown')\n",
      "Processing Record (345, 'zhumadian')\n",
      "Processing Record (346, 'vila velha')\n",
      "Processing Record (347, 'bloemfontein')\n",
      "Processing Record (348, 'tuatapere')\n",
      "Processing Record (349, 'almeirim')\n",
      "City not found. Skipping...\n",
      "Processing Record (350, 'mukhen')\n",
      "Processing Record (351, 'hengshui')\n",
      "Processing Record (352, 'chimore')\n",
      "Processing Record (353, 'gwadar')\n",
      "Processing Record (354, 'leshukonskoye')\n",
      "Processing Record (355, 'ancud')\n",
      "Processing Record (356, 'severnoye')\n",
      "Processing Record (357, 'praia')\n",
      "City not found. Skipping...\n",
      "Processing Record (358, 'itaquyry')\n",
      "Processing Record (359, 'pimenteiras')\n",
      "Processing Record (360, 'vestmanna')\n",
      "Processing Record (361, 'riohacha')\n",
      "Processing Record (362, 'anori')\n",
      "Processing Record (363, 'homer')\n",
      "City not found. Skipping...\n",
      "Processing Record (364, 'marsh harbour')\n",
      "Processing Record (365, 'ugoofaaru')\n",
      "Processing Record (366, 'manaus')\n",
      "Processing Record (367, 'san benito')\n",
      "City not found. Skipping...\n",
      "Processing Record (368, 'sangueya')\n",
      "Processing Record (369, 'shache')\n",
      "Processing Record (370, 'mtsensk')\n",
      "Processing Record (371, 'illintsi')\n",
      "Processing Record (372, 'flin flon')\n",
      "Processing Record (373, 'imeni poliny osipenko')\n",
      "Processing Record (374, 'fuzhou')\n",
      "Processing Record (375, 'kungurtug')\n",
      "City not found. Skipping...\n",
      "Processing Record (376, 'udachnyy')\n",
      "Processing Record (377, 'pangnirtung')\n",
      "Processing Record (378, 'orebro')\n",
      "Processing Record (379, 'taylor')\n",
      "Processing Record (380, 'aktau')\n",
      "Processing Record (381, 'andenes')\n",
      "Processing Record (382, 'pinotepa nacional')\n",
      "City not found. Skipping...\n",
      "Processing Record (383, 'plaster rock')\n",
      "Processing Record (384, 'viedma')\n",
      "Processing Record (385, 'erenhot')\n",
      "Processing Record (386, 'chumphon')\n",
      "Processing Record (387, 'nisia floresta')\n",
      "Processing Record (388, 'bandarbeyla')\n",
      "Processing Record (389, 'lavrentiya')\n",
      "Processing Record (390, 'ryotsu')\n",
      "Processing Record (391, 'nioro')\n",
      "Processing Record (392, 'isangel')\n",
      "City not found. Skipping...\n",
      "Processing Record (393, 'bacolod')\n",
      "Processing Record (394, 'port moresby')\n",
      "Processing Record (395, 'urumqi')\n",
      "Processing Record (396, 'khor')\n",
      "Processing Record (397, 'sao joao da barra')\n",
      "Processing Record (398, 'hervey bay')\n",
      "Processing Record (399, 'altay')\n",
      "Processing Record (400, 'socota')\n",
      "Processing Record (401, 'maloyaroslavets')\n",
      "Processing Record (402, 'huarmey')\n",
      "City not found. Skipping...\n",
      "Processing Record (403, 'lamu')\n",
      "Processing Record (404, 'norderstedt')\n",
      "Processing Record (405, 'enshi')\n",
      "Processing Record (406, 'neuquen')\n",
      "City not found. Skipping...\n",
      "Processing Record (407, 'lewistown')\n",
      "City not found. Skipping...\n",
      "Processing Record (408, 'sitka')\n",
      "Processing Record (409, 'nelson bay')\n",
      "Processing Record (410, 'bilbor')\n",
      "Processing Record (411, 'mecca')\n",
      "Processing Record (412, 'malanville')\n",
      "Processing Record (413, 'aksha')\n",
      "Processing Record (414, 'quatre cocos')\n",
      "Processing Record (415, 'lagoa')\n",
      "Processing Record (416, 'nakhon phanom')\n",
      "Processing Record (417, 'buin')\n",
      "Processing Record (418, 'nouakchott')\n",
      "Processing Record (419, 'aykhal')\n",
      "Processing Record (420, 'houston')\n",
      "City not found. Skipping...\n",
      "Processing Record (421, 'imbituba')\n",
      "Processing Record (422, 'ciudad bolivar')\n",
      "Processing Record (423, 'isla vista')\n"
     ]
    },
    {
     "name": "stdout",
     "output_type": "stream",
     "text": [
      "Processing Record (424, 'mareeba')\n",
      "Processing Record (425, 'mogadishu')\n",
      "Processing Record (426, 'show low')\n",
      "Processing Record (427, 'petropavlovsk-kamchatskiy')\n",
      "Processing Record (428, 'marzuq')\n",
      "Processing Record (429, 'uvira')\n",
      "City not found. Skipping...\n",
      "Processing Record (430, 'porto novo')\n",
      "Processing Record (431, 'mandali')\n",
      "Processing Record (432, 'kalmar')\n",
      "Processing Record (433, 'alyangula')\n",
      "Processing Record (434, 'noumea')\n",
      "Processing Record (435, 'evensk')\n",
      "Processing Record (436, 'baniyas')\n",
      "City not found. Skipping...\n",
      "Processing Record (437, 'taft')\n",
      "Processing Record (438, 'hirata')\n",
      "Processing Record (439, 'bystrzyca klodzka')\n",
      "Processing Record (440, 'klaksvik')\n",
      "Processing Record (441, 'kampen')\n",
      "Processing Record (442, 'kupang')\n",
      "Processing Record (443, 'oyem')\n",
      "Processing Record (444, 'berlevag')\n",
      "Processing Record (445, 'pomoryany')\n",
      "Processing Record (446, 'luderitz')\n",
      "Processing Record (447, 'vila franca do campo')\n",
      "Processing Record (448, 'baykit')\n",
      "Processing Record (449, 'puerto madryn')\n",
      "Processing Record (450, 'chapais')\n",
      "City not found. Skipping...\n",
      "Processing Record (451, 'mao')\n",
      "Processing Record (452, 'nadym')\n",
      "Processing Record (453, 'alofi')\n",
      "Processing Record (454, 'saint-lo')\n",
      "Processing Record (455, 'ilulissat')\n",
      "Processing Record (456, 'asyut')\n",
      "Processing Record (457, 'nong phai')\n",
      "Processing Record (458, 'biograd na moru')\n",
      "Processing Record (459, 'sarangani')\n",
      "Processing Record (460, 'carutapera')\n",
      "Processing Record (461, 'olafsvik')\n",
      "Processing Record (462, 'papar')\n",
      "Processing Record (463, 'karachi')\n",
      "Processing Record (464, 'oranjestad')\n",
      "Processing Record (465, 'ilheus')\n",
      "City not found. Skipping...\n",
      "Processing Record (466, 'mitu')\n",
      "Processing Record (467, 'san jeronimo')\n",
      "Processing Record (468, 'talcahuano')\n",
      "Processing Record (469, 'tymovskoye')\n",
      "Processing Record (470, 'vysokogornyy')\n",
      "City not found. Skipping...\n",
      "Processing Record (471, 'teeli')\n",
      "Processing Record (472, 'rypefjord')\n",
      "Processing Record (473, 'guarapari')\n",
      "Processing Record (474, 'hofn')\n",
      "City not found. Skipping...\n",
      "Processing Record (475, 'chum phae')\n",
      "Processing Record (476, 'cacu')\n",
      "Processing Record (477, 'alappuzha')\n",
      "Processing Record (478, 'mount isa')\n",
      "Processing Record (479, 'olga')\n",
      "Processing Record (480, 'alice springs')\n",
      "Processing Record (481, 'tura')\n",
      "Processing Record (482, 'pristina')\n",
      "City not found. Skipping...\n",
      "Processing Record (483, 'bratsk')\n",
      "Processing Record (484, 'tessalit')\n",
      "Processing Record (485, 'formby')\n",
      "Processing Record (486, 'landau')\n",
      "Processing Record (487, 'slavuta')\n",
      "Processing Record (488, 'dolinsk')\n",
      "Processing Record (489, 'portland')\n",
      "City not found. Skipping...\n",
      "Processing Record (490, 'salalah')\n",
      "Processing Record (491, 'susanville')\n",
      "Processing Record (492, 'fortuna')\n",
      "Processing Record (493, 'xining')\n",
      "Processing Record (494, 'beeville')\n",
      "Processing Record (495, 'half moon bay')\n",
      "Processing Record (496, 'san joaquin')\n",
      "Processing Record (497, 'shar')\n",
      "Processing Record (498, 'pathardi')\n",
      "Processing Record (499, 'mbale')\n",
      "Processing Record (500, 'semirom')\n",
      "Processing Record (501, 'yar-sale')\n",
      "Processing Record (502, 'talnakh')\n",
      "Processing Record (503, 'talara')\n",
      "Processing Record (504, 'eskisehir')\n",
      "Processing Record (505, 'hinton')\n",
      "Processing Record (506, 'los alamos')\n",
      "Processing Record (507, 'palana')\n",
      "Processing Record (508, 'carballo')\n",
      "Processing Record (509, 'nikki')\n",
      "Processing Record (510, 'khandyga')\n",
      "Processing Record (511, 'port said')\n",
      "Processing Record (512, 'baie-comeau')\n",
      "Processing Record (513, 'maceio')\n",
      "Processing Record (514, 'manokwari')\n",
      "City not found. Skipping...\n",
      "Processing Record (515, 'macouria')\n",
      "City not found. Skipping...\n",
      "Processing Record (516, 'sisimiut')\n",
      "City not found. Skipping...\n",
      "Processing Record (517, 'port hawkesbury')\n",
      "Processing Record (518, 'komatipoort')\n",
      "Processing Record (519, 'waingapu')\n",
      "Processing Record (520, 'oksfjord')\n",
      "Processing Record (521, 'guaratinga')\n",
      "Processing Record (522, 'nouadhibou')\n",
      "Processing Record (523, 'hambantota')\n",
      "Processing Record (524, 'raudeberg')\n",
      "Processing Record (525, 'byron bay')\n",
      "Processing Record (526, 'mindelo')\n",
      "Processing Record (527, 'ponta delgada')\n",
      "Processing Record (528, 'matara')\n",
      "Processing Record (529, 'ambatondrazaka')\n",
      "Processing Record (530, 'codrington')\n",
      "Processing Record (531, 'point fortin')\n",
      "Processing Record (532, 'tashtyp')\n",
      "Processing Record (533, 'tynda')\n",
      "Processing Record (534, 'buluang')\n",
      "Processing Record (535, 'mbandaka')\n",
      "Processing Record (536, 'bemidji')\n",
      "Processing Record (537, 'arman')\n",
      "Processing Record (538, 'sinnar')\n",
      "Processing Record (539, 'jonkoping')\n",
      "Processing Record (540, 'charters towers')\n",
      "Processing Record (541, 'villa de reyes')\n",
      "City not found. Skipping...\n",
      "Processing Record (542, 'trincomalee')\n",
      "Processing Record (543, 'vanimo')\n",
      "Processing Record (544, 'tilichiki')\n",
      "Processing Record (545, 'zapadnaya dvina')\n",
      "Processing Record (546, 'bathsheba')\n",
      "Processing Record (547, 'skaudvile')\n",
      "Processing Record (548, 'mporokoso')\n",
      "Processing Record (549, 'saint-prosper')\n",
      "Processing Record (550, 'kavaratti')\n",
      "Processing Record (551, 'bontang')\n",
      "Processing Record (552, 'eureka')\n",
      "Processing Record (553, 'black river')\n",
      "Processing Record (554, 'iquitos')\n",
      "Processing Record (555, 'moundou')\n",
      "Processing Record (556, 'bonthe')\n",
      "Processing Record (557, 'nizhnyaya tavda')\n",
      "Processing Record (558, 'tazovskiy')\n",
      "Processing Record (559, 'brindisi')\n",
      "Processing Record (560, 'muros')\n",
      "Processing Record (561, 'rundu')\n",
      "Processing Record (562, 'dunedin')\n",
      "Processing Record (563, 'erzin')\n",
      "City not found. Skipping...\n",
      "Processing Record (564, 'davila')\n",
      "Processing Record (565, 'kaitangata')\n",
      "Processing Record (566, 'port hedland')\n",
      "Processing Record (567, 'hualmay')\n",
      "Processing Record (568, 'tevaitoa')\n",
      "Processing Record (569, 'presidencia roque saenz pena')\n",
      "Processing Record (570, 'san carlos de bariloche')\n",
      "Processing Record (571, 'toora-khem')\n",
      "-----------------------------\n",
      "Data Retrieval Complete\n",
      "-----------------------------\n"
     ]
    }
   ],
   "source": [
    "# creating empty list for the response\n",
    "response_json = []\n",
    "\n",
    "print(\"Beginning Data Retrieval \")\n",
    "print(\"-----------------------------\")\n",
    "\n",
    "# create empty lists to hold the data for each city\n",
    "City=[]\n",
    "Lat=[]\n",
    "Lng=[]\n",
    "MaxTemp=[]\n",
    "Humidity=[]\n",
    "Cloudiness=[]\n",
    "WindSpeed=[]\n",
    "Country=[]\n",
    "Date=[]\n",
    "\n",
    "# the base url\n",
    "url = \"https://api.openweathermap.org/data/2.5/weather?\"\n",
    "limit = 50\n",
    "rec = 1\n",
    "set = 1\n",
    "\n",
    "# Loop through all the cities in our list\n",
    "for city in cities:\n",
    "        \n",
    "#     # Group cities in sets of 50 for logging purposes\n",
    "#     if (i % 50 == 0 and i >= 50):\n",
    "#         set += 1\n",
    "#         rec = 0\n",
    "\n",
    "#     # Create endpoint URL with each city\n",
    "#     city_url = url + \"&q=\" + city\n",
    "\n",
    "    # Add 1 to the record count\n",
    "    query_url = url + \"appid=\" + weather_api_key  + \"&units=imperial\" + \"&q=\"\n",
    "\n",
    "\n",
    "    try:\n",
    "        # get city's weather\n",
    "        weatherresponse = requests.get(query_url+city).json()\n",
    "        # load data to the open list\n",
    "        City.append(weatherresponse[\"name\"])\n",
    "        Lat.append(weatherresponse[\"coord\"][\"lat\"])\n",
    "        Lng.append(weatherresponse[\"coord\"][\"lon\"])\n",
    "        MaxTemp.append(weatherresponse[\"main\"][\"temp_max\"])\n",
    "        Humidity.append(weatherresponse[\"main\"][\"humidity\"])\n",
    "        Cloudiness.append(weatherresponse[\"clouds\"][\"all\"])\n",
    "        WindSpeed.append(weatherresponse[\"wind\"][\"speed\"])\n",
    "        Country.append(weatherresponse[\"sys\"][\"country\"])\n",
    "        Date.append(weatherresponse[\"dt\"])\n",
    "        response_json.append(city)\n",
    "        \n",
    "\n",
    "    # Log the url, record, and set numbers\n",
    "        print(f\"Processing Record {rec, city}\")\n",
    "        rec += 1\n",
    "    \n",
    "    except KeyError:\n",
    "        print(\"City not found. Skipping...\")\n",
    "        \n",
    "print(\"-----------------------------\")\n",
    "print(\"Data Retrieval Complete\")\n",
    "print(\"-----------------------------\")"
   ]
  },
  {
   "cell_type": "markdown",
   "metadata": {},
   "source": [
    "### Convert Raw Data to DataFrame\n",
    "* Export the city data into a .csv.\n",
    "* Display the DataFrame"
   ]
  },
  {
   "cell_type": "code",
   "execution_count": 5,
   "metadata": {},
   "outputs": [],
   "source": [
    "city_df = pd.DataFrame({\"City\":City,\n",
    "             \"Lat\":Lat,\n",
    "             \"Lng\":Lng,\n",
    "             \"Max_Temp\":MaxTemp,\n",
    "             \"Humidity\":Humidity,\n",
    "             \"Cloudiness\":Cloudiness,\n",
    "             \"Wind_Speed\":WindSpeed,\n",
    "             \"Country\":Country,\n",
    "             \"Date\":Date}\n",
    ")"
   ]
  },
  {
   "cell_type": "code",
   "execution_count": 6,
   "metadata": {},
   "outputs": [
    {
     "data": {
      "text/html": [
       "<div>\n",
       "<style scoped>\n",
       "    .dataframe tbody tr th:only-of-type {\n",
       "        vertical-align: middle;\n",
       "    }\n",
       "\n",
       "    .dataframe tbody tr th {\n",
       "        vertical-align: top;\n",
       "    }\n",
       "\n",
       "    .dataframe thead th {\n",
       "        text-align: right;\n",
       "    }\n",
       "</style>\n",
       "<table border=\"1\" class=\"dataframe\">\n",
       "  <thead>\n",
       "    <tr style=\"text-align: right;\">\n",
       "      <th></th>\n",
       "      <th>City</th>\n",
       "      <th>Lat</th>\n",
       "      <th>Lng</th>\n",
       "      <th>Max_Temp</th>\n",
       "      <th>Humidity</th>\n",
       "      <th>Cloudiness</th>\n",
       "      <th>Wind_Speed</th>\n",
       "      <th>Country</th>\n",
       "      <th>Date</th>\n",
       "    </tr>\n",
       "  </thead>\n",
       "  <tbody>\n",
       "    <tr>\n",
       "      <th>0</th>\n",
       "      <td>Bagdarin</td>\n",
       "      <td>54.4333</td>\n",
       "      <td>113.6000</td>\n",
       "      <td>3.90</td>\n",
       "      <td>85</td>\n",
       "      <td>100</td>\n",
       "      <td>1.07</td>\n",
       "      <td>RU</td>\n",
       "      <td>1611469644</td>\n",
       "    </tr>\n",
       "    <tr>\n",
       "      <th>1</th>\n",
       "      <td>Bethel</td>\n",
       "      <td>41.3712</td>\n",
       "      <td>-73.4140</td>\n",
       "      <td>21.20</td>\n",
       "      <td>45</td>\n",
       "      <td>1</td>\n",
       "      <td>13.80</td>\n",
       "      <td>US</td>\n",
       "      <td>1611469850</td>\n",
       "    </tr>\n",
       "    <tr>\n",
       "      <th>2</th>\n",
       "      <td>Mataura</td>\n",
       "      <td>-46.1927</td>\n",
       "      <td>168.8643</td>\n",
       "      <td>57.99</td>\n",
       "      <td>78</td>\n",
       "      <td>53</td>\n",
       "      <td>18.99</td>\n",
       "      <td>NZ</td>\n",
       "      <td>1611469851</td>\n",
       "    </tr>\n",
       "    <tr>\n",
       "      <th>3</th>\n",
       "      <td>Maragogi</td>\n",
       "      <td>-9.0122</td>\n",
       "      <td>-35.2225</td>\n",
       "      <td>75.94</td>\n",
       "      <td>84</td>\n",
       "      <td>94</td>\n",
       "      <td>8.01</td>\n",
       "      <td>BR</td>\n",
       "      <td>1611469852</td>\n",
       "    </tr>\n",
       "    <tr>\n",
       "      <th>4</th>\n",
       "      <td>Bluff</td>\n",
       "      <td>-46.6000</td>\n",
       "      <td>168.3333</td>\n",
       "      <td>57.99</td>\n",
       "      <td>78</td>\n",
       "      <td>58</td>\n",
       "      <td>21.00</td>\n",
       "      <td>NZ</td>\n",
       "      <td>1611469675</td>\n",
       "    </tr>\n",
       "  </tbody>\n",
       "</table>\n",
       "</div>"
      ],
      "text/plain": [
       "       City      Lat       Lng  Max_Temp  Humidity  Cloudiness  Wind_Speed  \\\n",
       "0  Bagdarin  54.4333  113.6000      3.90        85         100        1.07   \n",
       "1    Bethel  41.3712  -73.4140     21.20        45           1       13.80   \n",
       "2   Mataura -46.1927  168.8643     57.99        78          53       18.99   \n",
       "3  Maragogi  -9.0122  -35.2225     75.94        84          94        8.01   \n",
       "4     Bluff -46.6000  168.3333     57.99        78          58       21.00   \n",
       "\n",
       "  Country        Date  \n",
       "0      RU  1611469644  \n",
       "1      US  1611469850  \n",
       "2      NZ  1611469851  \n",
       "3      BR  1611469852  \n",
       "4      NZ  1611469675  "
      ]
     },
     "execution_count": 6,
     "metadata": {},
     "output_type": "execute_result"
    }
   ],
   "source": [
    "#weather_df = weather_df.dropna(axis=0, inplace=True)\n",
    "#weather_df = pd.DataFrame.from_dict(city_data)\n",
    "#weather_df.to_csv(\"../output_data/cities.csv\", index=False, header=True)\n",
    "#weather_df.head()\n",
    "\n",
    "city_df.to_csv(\"../output_data/cities.csv\", index=False, header=True)\n",
    "city_df.head()"
   ]
  },
  {
   "cell_type": "code",
   "execution_count": 7,
   "metadata": {},
   "outputs": [
    {
     "data": {
      "text/html": [
       "<div>\n",
       "<style scoped>\n",
       "    .dataframe tbody tr th:only-of-type {\n",
       "        vertical-align: middle;\n",
       "    }\n",
       "\n",
       "    .dataframe tbody tr th {\n",
       "        vertical-align: top;\n",
       "    }\n",
       "\n",
       "    .dataframe thead th {\n",
       "        text-align: right;\n",
       "    }\n",
       "</style>\n",
       "<table border=\"1\" class=\"dataframe\">\n",
       "  <thead>\n",
       "    <tr style=\"text-align: right;\">\n",
       "      <th></th>\n",
       "      <th>Lat</th>\n",
       "      <th>Lng</th>\n",
       "      <th>Max_Temp</th>\n",
       "      <th>Humidity</th>\n",
       "      <th>Cloudiness</th>\n",
       "      <th>Wind_Speed</th>\n",
       "      <th>Date</th>\n",
       "    </tr>\n",
       "  </thead>\n",
       "  <tbody>\n",
       "    <tr>\n",
       "      <th>count</th>\n",
       "      <td>571.000000</td>\n",
       "      <td>571.000000</td>\n",
       "      <td>571.000000</td>\n",
       "      <td>571.000000</td>\n",
       "      <td>571.000000</td>\n",
       "      <td>571.000000</td>\n",
       "      <td>5.710000e+02</td>\n",
       "    </tr>\n",
       "    <tr>\n",
       "      <th>mean</th>\n",
       "      <td>18.368675</td>\n",
       "      <td>18.651709</td>\n",
       "      <td>50.281751</td>\n",
       "      <td>73.882662</td>\n",
       "      <td>56.189142</td>\n",
       "      <td>7.669720</td>\n",
       "      <td>1.611470e+09</td>\n",
       "    </tr>\n",
       "    <tr>\n",
       "      <th>std</th>\n",
       "      <td>33.828688</td>\n",
       "      <td>90.022518</td>\n",
       "      <td>34.172777</td>\n",
       "      <td>20.228655</td>\n",
       "      <td>40.195260</td>\n",
       "      <td>5.719713</td>\n",
       "      <td>1.724120e+02</td>\n",
       "    </tr>\n",
       "    <tr>\n",
       "      <th>min</th>\n",
       "      <td>-54.800000</td>\n",
       "      <td>-175.200000</td>\n",
       "      <td>-55.410000</td>\n",
       "      <td>9.000000</td>\n",
       "      <td>0.000000</td>\n",
       "      <td>0.270000</td>\n",
       "      <td>1.611470e+09</td>\n",
       "    </tr>\n",
       "    <tr>\n",
       "      <th>25%</th>\n",
       "      <td>-9.192450</td>\n",
       "      <td>-60.212800</td>\n",
       "      <td>32.000000</td>\n",
       "      <td>65.000000</td>\n",
       "      <td>13.000000</td>\n",
       "      <td>3.440000</td>\n",
       "      <td>1.611470e+09</td>\n",
       "    </tr>\n",
       "    <tr>\n",
       "      <th>50%</th>\n",
       "      <td>19.166700</td>\n",
       "      <td>20.866700</td>\n",
       "      <td>62.010000</td>\n",
       "      <td>79.000000</td>\n",
       "      <td>75.000000</td>\n",
       "      <td>6.330000</td>\n",
       "      <td>1.611470e+09</td>\n",
       "    </tr>\n",
       "    <tr>\n",
       "      <th>75%</th>\n",
       "      <td>48.733300</td>\n",
       "      <td>99.925500</td>\n",
       "      <td>75.965000</td>\n",
       "      <td>89.000000</td>\n",
       "      <td>98.000000</td>\n",
       "      <td>10.360000</td>\n",
       "      <td>1.611470e+09</td>\n",
       "    </tr>\n",
       "    <tr>\n",
       "      <th>max</th>\n",
       "      <td>78.218600</td>\n",
       "      <td>179.316700</td>\n",
       "      <td>107.600000</td>\n",
       "      <td>100.000000</td>\n",
       "      <td>100.000000</td>\n",
       "      <td>37.220000</td>\n",
       "      <td>1.611470e+09</td>\n",
       "    </tr>\n",
       "  </tbody>\n",
       "</table>\n",
       "</div>"
      ],
      "text/plain": [
       "              Lat         Lng    Max_Temp    Humidity  Cloudiness  Wind_Speed  \\\n",
       "count  571.000000  571.000000  571.000000  571.000000  571.000000  571.000000   \n",
       "mean    18.368675   18.651709   50.281751   73.882662   56.189142    7.669720   \n",
       "std     33.828688   90.022518   34.172777   20.228655   40.195260    5.719713   \n",
       "min    -54.800000 -175.200000  -55.410000    9.000000    0.000000    0.270000   \n",
       "25%     -9.192450  -60.212800   32.000000   65.000000   13.000000    3.440000   \n",
       "50%     19.166700   20.866700   62.010000   79.000000   75.000000    6.330000   \n",
       "75%     48.733300   99.925500   75.965000   89.000000   98.000000   10.360000   \n",
       "max     78.218600  179.316700  107.600000  100.000000  100.000000   37.220000   \n",
       "\n",
       "               Date  \n",
       "count  5.710000e+02  \n",
       "mean   1.611470e+09  \n",
       "std    1.724120e+02  \n",
       "min    1.611470e+09  \n",
       "25%    1.611470e+09  \n",
       "50%    1.611470e+09  \n",
       "75%    1.611470e+09  \n",
       "max    1.611470e+09  "
      ]
     },
     "execution_count": 7,
     "metadata": {},
     "output_type": "execute_result"
    }
   ],
   "source": [
    "city_df.describe()"
   ]
  },
  {
   "cell_type": "markdown",
   "metadata": {},
   "source": [
    "## Inspect the data and remove the cities where the humidity > 100%.\n",
    "----\n",
    "Skip this step if there are no cities that have humidity > 100%. "
   ]
  },
  {
   "cell_type": "code",
   "execution_count": 13,
   "metadata": {},
   "outputs": [
    {
     "data": {
      "text/plain": [
       "[]"
      ]
     },
     "execution_count": 13,
     "metadata": {},
     "output_type": "execute_result"
    }
   ],
   "source": [
    "#  use an empty list to get the humidity >100%\n",
    "city_df_outliers = []\n",
    "if city_df['Humidity'].max() > 100:\n",
    "    city_df_outliers = city_df.loc[city_df['Humidity'] > 90].index\n",
    "\n",
    "city_df_outliers"
   ]
  },
  {
   "cell_type": "code",
   "execution_count": 17,
   "metadata": {},
   "outputs": [
    {
     "data": {
      "text/html": [
       "<div>\n",
       "<style scoped>\n",
       "    .dataframe tbody tr th:only-of-type {\n",
       "        vertical-align: middle;\n",
       "    }\n",
       "\n",
       "    .dataframe tbody tr th {\n",
       "        vertical-align: top;\n",
       "    }\n",
       "\n",
       "    .dataframe thead th {\n",
       "        text-align: right;\n",
       "    }\n",
       "</style>\n",
       "<table border=\"1\" class=\"dataframe\">\n",
       "  <thead>\n",
       "    <tr style=\"text-align: right;\">\n",
       "      <th></th>\n",
       "      <th>City</th>\n",
       "      <th>Lat</th>\n",
       "      <th>Lng</th>\n",
       "      <th>Max_Temp</th>\n",
       "      <th>Humidity</th>\n",
       "      <th>Cloudiness</th>\n",
       "      <th>Wind_Speed</th>\n",
       "      <th>Country</th>\n",
       "      <th>Date</th>\n",
       "    </tr>\n",
       "  </thead>\n",
       "  <tbody>\n",
       "    <tr>\n",
       "      <th>0</th>\n",
       "      <td>Bagdarin</td>\n",
       "      <td>54.4333</td>\n",
       "      <td>113.6000</td>\n",
       "      <td>3.90</td>\n",
       "      <td>85</td>\n",
       "      <td>100</td>\n",
       "      <td>1.07</td>\n",
       "      <td>RU</td>\n",
       "      <td>1611469644</td>\n",
       "    </tr>\n",
       "    <tr>\n",
       "      <th>1</th>\n",
       "      <td>Bethel</td>\n",
       "      <td>41.3712</td>\n",
       "      <td>-73.4140</td>\n",
       "      <td>21.20</td>\n",
       "      <td>45</td>\n",
       "      <td>1</td>\n",
       "      <td>13.80</td>\n",
       "      <td>US</td>\n",
       "      <td>1611469850</td>\n",
       "    </tr>\n",
       "    <tr>\n",
       "      <th>2</th>\n",
       "      <td>Mataura</td>\n",
       "      <td>-46.1927</td>\n",
       "      <td>168.8643</td>\n",
       "      <td>57.99</td>\n",
       "      <td>78</td>\n",
       "      <td>53</td>\n",
       "      <td>18.99</td>\n",
       "      <td>NZ</td>\n",
       "      <td>1611469851</td>\n",
       "    </tr>\n",
       "    <tr>\n",
       "      <th>3</th>\n",
       "      <td>Maragogi</td>\n",
       "      <td>-9.0122</td>\n",
       "      <td>-35.2225</td>\n",
       "      <td>75.94</td>\n",
       "      <td>84</td>\n",
       "      <td>94</td>\n",
       "      <td>8.01</td>\n",
       "      <td>BR</td>\n",
       "      <td>1611469852</td>\n",
       "    </tr>\n",
       "    <tr>\n",
       "      <th>4</th>\n",
       "      <td>Bluff</td>\n",
       "      <td>-46.6000</td>\n",
       "      <td>168.3333</td>\n",
       "      <td>57.99</td>\n",
       "      <td>78</td>\n",
       "      <td>58</td>\n",
       "      <td>21.00</td>\n",
       "      <td>NZ</td>\n",
       "      <td>1611469675</td>\n",
       "    </tr>\n",
       "  </tbody>\n",
       "</table>\n",
       "</div>"
      ],
      "text/plain": [
       "       City      Lat       Lng  Max_Temp  Humidity  Cloudiness  Wind_Speed  \\\n",
       "0  Bagdarin  54.4333  113.6000      3.90        85         100        1.07   \n",
       "1    Bethel  41.3712  -73.4140     21.20        45           1       13.80   \n",
       "2   Mataura -46.1927  168.8643     57.99        78          53       18.99   \n",
       "3  Maragogi  -9.0122  -35.2225     75.94        84          94        8.01   \n",
       "4     Bluff -46.6000  168.3333     57.99        78          58       21.00   \n",
       "\n",
       "  Country        Date  \n",
       "0      RU  1611469644  \n",
       "1      US  1611469850  \n",
       "2      NZ  1611469851  \n",
       "3      BR  1611469852  \n",
       "4      NZ  1611469675  "
      ]
     },
     "execution_count": 17,
     "metadata": {},
     "output_type": "execute_result"
    }
   ],
   "source": [
    "# Make a new DataFrame equal to the city data to drop all humidity outliers by index.\n",
    "# Passing \"inplace=False\" will make a copy of the city_data DataFrame, which we call \"clean_city_data\".\n",
    "clean_city_data = city_df[~city_df.index.isin(city_df_outliers)]\n",
    "clean_city_data.head()"
   ]
  },
  {
   "cell_type": "markdown",
   "metadata": {},
   "source": [
    "## Plotting the Data\n",
    "* Use proper labeling of the plots using plot titles (including date of analysis) and axes labels.\n",
    "* Save the plotted figures as .pngs."
   ]
  },
  {
   "cell_type": "markdown",
   "metadata": {},
   "source": [
    "## Latitude vs. Temperature Plot"
   ]
  },
  {
   "cell_type": "code",
   "execution_count": 46,
   "metadata": {
    "scrolled": true
   },
   "outputs": [
    {
     "data": {
      "image/png": "[encoded data removed]",
      "text/plain": [
       "<Figure size 432x288 with 1 Axes>"
      ]
     },
     "metadata": {
      "needs_background": "light"
     },
     "output_type": "display_data"
    }
   ],
   "source": [
    "# Create a Scatter Plot for Latitude vs Temperature \n",
    "plt.scatter(clean_city_data[\"Lat\"], clean_city_data[\"Max_Temp\"], marker= 'o', edgecolors='black')\n",
    "plt.xlabel(\"Latitude\") \n",
    "plt.ylabel(\"Max Temperature (F)\")\n",
    "plt.title(\"City Latitude vs. Max Temperature\")\n",
    "plt.grid(True)\n",
    "plt.savefig(\"../output_data/Fig1.png\")\n",
    "plt.show()"
   ]
  },
  {
   "cell_type": "markdown",
   "metadata": {},
   "source": [
    "The scatter plot shows the city latitude vs Max temperature and from the graph it can be seens that when it is close tto the 0 latitude the higher temperature and as the latitude increases or decreases the temperature will drop showing somewhat a parabolic shape"
   ]
  },
  {
   "cell_type": "markdown",
   "metadata": {},
   "source": [
    "## Latitude vs. Humidity Plot"
   ]
  },
  {
   "cell_type": "code",
   "execution_count": 47,
   "metadata": {},
   "outputs": [
    {
     "data": {
      "image/png": "[encoded data removed]",
      "text/plain": [
       "<Figure size 432x288 with 1 Axes>"
      ]
     },
     "metadata": {
      "needs_background": "light"
     },
     "output_type": "display_data"
    }
   ],
   "source": [
    "# Create a Scatter Plot for Latitude vs Humidity Plot \n",
    "plt.scatter(clean_city_data[\"Lat\"], clean_city_data[\"Humidity\"], marker= 'o', edgecolors='black')\n",
    "plt.xlabel(\"Latitude\") \n",
    "plt.ylabel(\"Humidity (%)\")\n",
    "plt.title(\"City Latitude vs. Humidity\")\n",
    "plt.grid(True)\n",
    "plt.savefig(\"../output_data/Fig2.png\")\n",
    "plt.show()"
   ]
  },
  {
   "cell_type": "markdown",
   "metadata": {},
   "source": [
    "The scatterplot shows the relationship between city latitude against the humidity. From the graph we can see that it is the more the latitude increase the higher the humidity which the case with northern hemisphere"
   ]
  },
  {
   "cell_type": "markdown",
   "metadata": {},
   "source": [
    "## Latitude vs. Cloudiness Plot"
   ]
  },
  {
   "cell_type": "code",
   "execution_count": 48,
   "metadata": {},
   "outputs": [
    {
     "data": {
      "image/png": "[encoded data removed]",
      "text/plain": [
       "<Figure size 432x288 with 1 Axes>"
      ]
     },
     "metadata": {
      "needs_background": "light"
     },
     "output_type": "display_data"
    }
   ],
   "source": [
    "#Create a Scatter Plot for Latitude vs Cloudiness \n",
    "plt.scatter(clean_city_data[\"Lat\"], clean_city_data[\"Cloudiness\"], marker= 'o', edgecolors='black')\n",
    "plt.xlabel(\"Latitude\") \n",
    "plt.ylabel(\"Cloudiness (%)\")\n",
    "plt.title(\"City Latitude vs. Cloudiness\")\n",
    "plt.grid(True)\n",
    "plt.savefig(\"../output_data/Fig3.png\")\n",
    "plt.show()"
   ]
  },
  {
   "cell_type": "markdown",
   "metadata": {},
   "source": [
    "The scatter plot shows the relationship between the latitude against the cloudiness. However from the graph you can see that there is no clear correlation that can be reported"
   ]
  },
  {
   "cell_type": "markdown",
   "metadata": {},
   "source": [
    "## Latitude vs. Wind Speed Plot"
   ]
  },
  {
   "cell_type": "code",
   "execution_count": 49,
   "metadata": {},
   "outputs": [
    {
     "data": {
      "image/png": "[encoded data removed]",
      "text/plain": [
       "<Figure size 432x288 with 1 Axes>"
      ]
     },
     "metadata": {
      "needs_background": "light"
     },
     "output_type": "display_data"
    }
   ],
   "source": [
    "# Create a Scatter Plot for Latitude vs Wind Speed Plot \n",
    "plt.scatter(clean_city_data[\"Lat\"], clean_city_data[\"Wind_Speed\"], marker= 'o', edgecolors='black')\n",
    "plt.xlabel(\"Latitude\") \n",
    "plt.ylabel(\"Wind Speed (mph)\")\n",
    "plt.title(\"City Latitude vs. Wind Speed\")\n",
    "plt.grid(True)\n",
    "plt.savefig(\"../output_data/Fig4.png\")\n",
    "plt.show()"
   ]
  },
  {
   "cell_type": "markdown",
   "metadata": {},
   "source": [
    "The scatter plot shows the relationship between the latitude against the wind speed and from the plot it can be seen that the wind speed doesnt really change even with increasing or decreasing latitudes"
   ]
  },
  {
   "cell_type": "markdown",
   "metadata": {},
   "source": [
    "## Linear Regression"
   ]
  },
  {
   "cell_type": "code",
   "execution_count": 27,
   "metadata": {},
   "outputs": [],
   "source": [
    "# Find cities in Northern Hemisphere \n",
    "northern_hemisphere = clean_city_data.loc[clean_city_data['Lat'] >= 0] \n",
    "\n",
    "# Find cities in Southern Hemisphere \n",
    "southern_hemisphere = clean_city_data.loc[clean_city_data['Lat'] < 0]"
   ]
  },
  {
   "cell_type": "markdown",
   "metadata": {},
   "source": [
    "####  Northern Hemisphere - Max Temp vs. Latitude Linear Regression"
   ]
  },
  {
   "cell_type": "code",
   "execution_count": 30,
   "metadata": {},
   "outputs": [
    {
     "name": "stdout",
     "output_type": "stream",
     "text": [
      "The r-value is: 0.7342583783145006\n"
     ]
    },
    {
     "data": {
      "image/png": "[encoded data removed]",
      "text/plain": [
       "<Figure size 432x288 with 1 Axes>"
      ]
     },
     "metadata": {
      "needs_background": "light"
     },
     "output_type": "display_data"
    }
   ],
   "source": [
    "# Perform a linear regression on Northern Hemisphere - Max Temp vs. Latitude Linear Regression\n",
    "(slope, intercept, rvalue, pvalue, stderr) = linregress(northern_hemisphere['Lat'], northern_hemisphere['Max_Temp'])\n",
    "\n",
    "# Get regression values\n",
    "regressval = northern_hemisphere['Lat'] * slope + intercept\n",
    "\n",
    "# Create line equation string\n",
    "lineeq = \"y = \" + str(round(slope,2)) + \"x +\" + str(round(intercept,2))\n",
    "\n",
    "# Create Plot\n",
    "plt.scatter(northern_hemisphere['Lat'], northern_hemisphere['Max_Temp'])\n",
    "plt.plot(northern_hemisphere['Lat'],regressval,\"r-\")\n",
    "\n",
    "# Label plot and annotate the line equation\n",
    "plt.xlabel('Latitude')\n",
    "plt.ylabel('Max Temp')\n",
    "plt.annotate(lineeq,(0,10),fontsize=15,color=\"red\")\n",
    "\n",
    "# Print r value\n",
    "print(f\"The r-value is: {rvalue**2}\")\n",
    "\n",
    "# Show plot\n",
    "plt.show()"
   ]
  },
  {
   "cell_type": "markdown",
   "metadata": {},
   "source": [
    "The linear regression in the temeprature vs latitude in the northern hemisphere can be seen that there is a strong negative correlation between the 2 data sets"
   ]
  },
  {
   "cell_type": "markdown",
   "metadata": {},
   "source": [
    "####  Southern Hemisphere - Max Temp vs. Latitude Linear Regression"
   ]
  },
  {
   "cell_type": "code",
   "execution_count": 33,
   "metadata": {},
   "outputs": [
    {
     "name": "stdout",
     "output_type": "stream",
     "text": [
      "The r-value is: 0.123833583486327\n"
     ]
    },
    {
     "data": {
      "image/png": "[encoded data removed]",
      "text/plain": [
       "<Figure size 432x288 with 1 Axes>"
      ]
     },
     "metadata": {
      "needs_background": "light"
     },
     "output_type": "display_data"
    }
   ],
   "source": [
    "# Perform a linear regression on Northern Hemisphere - Max Temp vs. Latitude Linear Regression\n",
    "(slope, intercept, rvalue, pvalue, stderr) = linregress(southern_hemisphere['Lat'], southern_hemisphere['Max_Temp'])\n",
    "\n",
    "# Get regression values\n",
    "regress_values = southern_hemisphere['Lat'] * slope + intercept\n",
    "\n",
    "# Create line equation string\n",
    "line_eq = \"y = \" + str(round(slope,2)) + \"x +\" + str(round(intercept,2))\n",
    "\n",
    "# Create Plot\n",
    "plt.scatter(southern_hemisphere['Lat'], southern_hemisphere['Max_Temp'])\n",
    "plt.plot(southern_hemisphere['Lat'],regress_values,\"r-\")\n",
    "\n",
    "# Label plot and annotate the line equation\n",
    "plt.xlabel('Latitude')\n",
    "plt.ylabel('Max Temp')\n",
    "plt.annotate(line_eq,(-50,50),fontsize=15,color=\"red\")\n",
    "\n",
    "# Print r value\n",
    "print(f\"The r-value is: {rvalue**2}\")\n",
    "\n",
    "# Show plot\n",
    "plt.show()"
   ]
  },
  {
   "cell_type": "markdown",
   "metadata": {},
   "source": [
    "There is a weak positive correlation between the temperature vs latitude in the southern hemisphere from the graph"
   ]
  },
  {
   "cell_type": "markdown",
   "metadata": {},
   "source": [
    "####  Northern Hemisphere - Humidity (%) vs. Latitude Linear Regression"
   ]
  },
  {
   "cell_type": "code",
   "execution_count": 34,
   "metadata": {},
   "outputs": [
    {
     "name": "stdout",
     "output_type": "stream",
     "text": [
      "The r-value is: 0.11140848230259395\n"
     ]
    },
    {
     "data": {
      "image/png": "[encoded data removed]",
      "text/plain": [
       "<Figure size 432x288 with 1 Axes>"
      ]
     },
     "metadata": {
      "needs_background": "light"
     },
     "output_type": "display_data"
    }
   ],
   "source": [
    "# Perform a linear regression on Northern Hemisphere - Humidity (%) vs. Latitude Linear Regression\n",
    "(slope, intercept, rvalue, pvalue, stderr) = linregress(northern_hemisphere['Lat'], northern_hemisphere['Humidity'])\n",
    "\n",
    "# Get regression values\n",
    "regress_values = northern_hemisphere['Lat'] * slope + intercept\n",
    "\n",
    "# Create line equation string\n",
    "line_eq = \"y = \" + str(round(slope,2)) + \"x +\" + str(round(intercept,2))\n",
    "\n",
    "# Create Plot\n",
    "plt.scatter(northern_hemisphere['Lat'], northern_hemisphere['Humidity'])\n",
    "plt.plot(northern_hemisphere['Lat'],regress_values,\"r-\")\n",
    "\n",
    "# Label plot and annotate the line equation\n",
    "plt.xlabel('Latitude')\n",
    "plt.ylabel('Humidity')\n",
    "plt.annotate(line_eq,(40,15),fontsize=15,color=\"red\")\n",
    "\n",
    "# Print r value\n",
    "print(f\"The r-value is: {rvalue**2}\")\n",
    "\n",
    "# Show plot\n",
    "plt.show()"
   ]
  },
  {
   "cell_type": "markdown",
   "metadata": {},
   "source": [
    "There is a weak positive correlation between the humidity vs northern hemisphere latitude linear regression modelling"
   ]
  },
  {
   "cell_type": "markdown",
   "metadata": {},
   "source": [
    "####  Southern Hemisphere - Humidity (%) vs. Latitude Linear Regression"
   ]
  },
  {
   "cell_type": "code",
   "execution_count": 35,
   "metadata": {},
   "outputs": [
    {
     "name": "stdout",
     "output_type": "stream",
     "text": [
      "The r-value is: 0.0912864194306904\n"
     ]
    },
    {
     "data": {
      "image/png": "[encoded data removed]",
      "text/plain": [
       "<Figure size 432x288 with 1 Axes>"
      ]
     },
     "metadata": {
      "needs_background": "light"
     },
     "output_type": "display_data"
    }
   ],
   "source": [
    "# Perform a linear regression on Southern Hemisphere - Humidity (%) vs. Latitude Linear Regression\n",
    "(slope, intercept, rvalue, pvalue, stderr) = linregress(southern_hemisphere['Lat'], southern_hemisphere['Humidity'])\n",
    "\n",
    "# Get regression values\n",
    "regress_values = southern_hemisphere['Lat'] * slope + intercept\n",
    "\n",
    "# Create line equation string\n",
    "line_eq = \"y = \" + str(round(slope,2)) + \"x +\" + str(round(intercept,2))\n",
    "\n",
    "# Create Plot\n",
    "plt.scatter(southern_hemisphere['Lat'], southern_hemisphere['Humidity'])\n",
    "plt.plot(southern_hemisphere['Lat'],regress_values,\"r-\")\n",
    "\n",
    "# Label plot and annotate the line equation\n",
    "plt.xlabel('Latitude')\n",
    "plt.ylabel('Humidity')\n",
    "plt.annotate(line_eq,(-25,15),fontsize=15,color=\"red\")\n",
    "\n",
    "# Print r value\n",
    "print(f\"The r-value is: {rvalue**2}\")\n",
    "\n",
    "# Show plot\n",
    "plt.show()"
   ]
  },
  {
   "cell_type": "markdown",
   "metadata": {},
   "source": [
    "There is a weak positive correlation between the southern hemisphere latitude against the humidity in the linear regression modelling"
   ]
  },
  {
   "cell_type": "markdown",
   "metadata": {},
   "source": [
    "####  Northern Hemisphere - Cloudiness (%) vs. Latitude Linear Regression"
   ]
  },
  {
   "cell_type": "code",
   "execution_count": 36,
   "metadata": {},
   "outputs": [
    {
     "name": "stdout",
     "output_type": "stream",
     "text": [
      "The r-value is: 0.06452853245769047\n"
     ]
    },
    {
     "data": {
      "image/png": "[encoded data removed]",
      "text/plain": [
       "<Figure size 432x288 with 1 Axes>"
      ]
     },
     "metadata": {
      "needs_background": "light"
     },
     "output_type": "display_data"
    }
   ],
   "source": [
    "# Perform a linear regression on Northern Hemisphere - Cloudiness (%) vs. Latitude Linear Regression\n",
    "(slope, intercept, rvalue, pvalue, stderr) = linregress(northern_hemisphere['Lat'], northern_hemisphere['Cloudiness'])\n",
    "\n",
    "# Get regression values\n",
    "regress_values = northern_hemisphere['Lat'] * slope + intercept\n",
    "\n",
    "# Create line equation string\n",
    "line_eq = \"y = \" + str(round(slope,2)) + \"x +\" + str(round(intercept,2))\n",
    "\n",
    "# Create Plot\n",
    "plt.scatter(northern_hemisphere['Lat'], northern_hemisphere['Cloudiness'])\n",
    "plt.plot(northern_hemisphere['Lat'],regress_values,\"r-\")\n",
    "\n",
    "# Label plot and annotate the line equation\n",
    "plt.xlabel('Latitude')\n",
    "plt.ylabel('Cloudiness')\n",
    "plt.annotate(line_eq,(45,15),fontsize=15,color=\"red\")\n",
    "\n",
    "# Print r value\n",
    "print(f\"The r-value is: {rvalue**2}\")\n",
    "\n",
    "# Show plot\n",
    "plt.show()"
   ]
  },
  {
   "cell_type": "markdown",
   "metadata": {},
   "source": [
    "There is a weak positive correlation between the northern hemisphere latitude against the cloudiness in the linear regression modelling"
   ]
  },
  {
   "cell_type": "markdown",
   "metadata": {},
   "source": [
    "####  Southern Hemisphere - Cloudiness (%) vs. Latitude Linear Regression"
   ]
  },
  {
   "cell_type": "code",
   "execution_count": 37,
   "metadata": {},
   "outputs": [
    {
     "name": "stdout",
     "output_type": "stream",
     "text": [
      "The r-value is: 0.09961927892354525\n"
     ]
    },
    {
     "data": {
      "image/png": "[encoded data removed]",
      "text/plain": [
       "<Figure size 432x288 with 1 Axes>"
      ]
     },
     "metadata": {
      "needs_background": "light"
     },
     "output_type": "display_data"
    }
   ],
   "source": [
    "# Perform a linear regression on Southern Hemisphere - Cloudiness (%) vs. Latitude Linear Regression\n",
    "(slope, intercept, rvalue, pvalue, stderr) = linregress(southern_hemisphere['Lat'], southern_hemisphere['Cloudiness'])\n",
    "\n",
    "# Get regression values\n",
    "regress_values = southern_hemisphere['Lat'] * slope + intercept\n",
    "\n",
    "# Create line equation string\n",
    "line_eq = \"y = \" + str(round(slope,2)) + \"x +\" + str(round(intercept,2))\n",
    "\n",
    "# Create Plot\n",
    "plt.scatter(southern_hemisphere['Lat'], southern_hemisphere['Cloudiness'])\n",
    "plt.plot(southern_hemisphere['Lat'],regress_values,\"r-\")\n",
    "\n",
    "# Label plot and annotate the line equation\n",
    "plt.xlabel('Latitude')\n",
    "plt.ylabel('Cloudiness')\n",
    "plt.annotate(line_eq,(-30,10),fontsize=15,color=\"red\")\n",
    "\n",
    "# Print r value\n",
    "print(f\"The r-value is: {rvalue**2}\")\n",
    "\n",
    "# Show plot\n",
    "plt.show()"
   ]
  },
  {
   "cell_type": "markdown",
   "metadata": {},
   "source": [
    "There is a weak correlation between the southern hemisphere latitude against the cloudiness in the linear regression modelling"
   ]
  },
  {
   "cell_type": "markdown",
   "metadata": {},
   "source": [
    "####  Northern Hemisphere - Wind Speed (mph) vs. Latitude Linear Regression"
   ]
  },
  {
   "cell_type": "code",
   "execution_count": 39,
   "metadata": {},
   "outputs": [
    {
     "name": "stdout",
     "output_type": "stream",
     "text": [
      "The r-value is: 0.0031681194525481687\n"
     ]
    },
    {
     "data": {
      "image/png": "[encoded data removed]",
      "text/plain": [
       "<Figure size 432x288 with 1 Axes>"
      ]
     },
     "metadata": {
      "needs_background": "light"
     },
     "output_type": "display_data"
    }
   ],
   "source": [
    "# Perform a linear regression on Northern Hemisphere - Wind Speed (mph) vs. Latitude Linear Regression\n",
    "(slope, intercept, rvalue, pvalue, stderr) = linregress(northern_hemisphere['Lat'], northern_hemisphere['Wind_Speed'])\n",
    "\n",
    "# Get regression values\n",
    "regress_values = northern_hemisphere['Lat'] * slope + intercept\n",
    "\n",
    "# Create line equation string\n",
    "line_eq = \"y = \" + str(round(slope,2)) + \"x +\" + str(round(intercept,2))\n",
    "\n",
    "# Create Plot\n",
    "plt.scatter(northern_hemisphere['Lat'], northern_hemisphere['Wind_Speed'])\n",
    "plt.plot(northern_hemisphere['Lat'],regress_values,\"r-\")\n",
    "\n",
    "# Label plot and annotate the line equation\n",
    "plt.xlabel('Latitude')\n",
    "plt.ylabel('Wind Speed')\n",
    "plt.annotate(line_eq,(20,30),fontsize=15,color=\"red\")\n",
    "\n",
    "# Print r value\n",
    "print(f\"The r-value is: {rvalue**2}\")\n",
    "\n",
    "# Show plot\n",
    "plt.show()"
   ]
  },
  {
   "cell_type": "markdown",
   "metadata": {},
   "source": [
    "There is weak correlation between the northern hemisphere latitude against the wind speed in the linear regression modelling to the point that it is almost straight line"
   ]
  },
  {
   "cell_type": "markdown",
   "metadata": {},
   "source": [
    "####  Southern Hemisphere - Wind Speed (mph) vs. Latitude Linear Regression"
   ]
  },
  {
   "cell_type": "code",
   "execution_count": 41,
   "metadata": {},
   "outputs": [
    {
     "name": "stdout",
     "output_type": "stream",
     "text": [
      "The r-value is: 0.14025479433998356\n"
     ]
    },
    {
     "data": {
      "image/png": "[encoded data removed]",
      "text/plain": [
       "<Figure size 432x288 with 1 Axes>"
      ]
     },
     "metadata": {
      "needs_background": "light"
     },
     "output_type": "display_data"
    }
   ],
   "source": [
    "# Perform a linear regression on Southern Hemisphere - Wind Speed (mph) vs. Latitude Linear Regression\n",
    "(slope, intercept, rvalue, pvalue, stderr) = linregress(southern_hemisphere['Lat'], southern_hemisphere['Wind_Speed'])\n",
    "\n",
    "# Get regression values\n",
    "regress_values = southern_hemisphere['Lat'] * slope + intercept\n",
    "\n",
    "# Create line equation string\n",
    "line_eq = \"y = \" + str(round(slope,2)) + \"x +\" + str(round(intercept,2))\n",
    "\n",
    "# Create Plot\n",
    "plt.scatter(southern_hemisphere['Lat'], southern_hemisphere['Wind_Speed'])\n",
    "plt.plot(southern_hemisphere['Lat'],regress_values,\"r-\")\n",
    "\n",
    "# Label plot and annotate the line equation\n",
    "plt.xlabel('Latitude')\n",
    "plt.ylabel('Wind Speed')\n",
    "plt.annotate(line_eq,(-50,20),fontsize=15,color=\"red\")\n",
    "\n",
    "# Print r value\n",
    "print(f\"The r-value is: {rvalue**2}\")\n",
    "\n",
    "# Show plot\n",
    "plt.show()"
   ]
  },
  {
   "cell_type": "markdown",
   "metadata": {},
   "source": [
    "There is a weak negative correlation between the southern hemisphere latitude against the wind speed that can be seen on the linear regression modelling."
   ]
  },
  {
   "cell_type": "markdown",
   "metadata": {},
   "source": [
    "# Observation\n",
    "1.) Southern hemisphere have more water compared to the northern hence the humidity is higher in the southern hesmiphere\n",
    "\n",
    "2.) The season are interchangeable as, if the sourthern hemisphere is in winter season then the northern hemisphere would be in summer vice versa\n",
    "\n",
    "3.) The southern hemisphere are warmer and have more country that is in tropical\n",
    "\n",
    "4.) There is no clear trend that can be seen between the humidity & latitude\n",
    "\n",
    "5.) There is no clear trend that can be seen between the cloudiness and latitude\n",
    "\n",
    "6.) there is no clear trend that can be seen between the wind speed and latitude"
   ]
  }
 ],
 "metadata": {
  "anaconda-cloud": {},
  "kernel_info": {
   "name": "python3"
  },
  "kernelspec": {
   "display_name": "Python 3",
   "language": "python",
   "name": "python3"
  },
  "language_info": {
   "codemirror_mode": {
    "name": "ipython",
    "version": 3
   },
   "file_extension": ".py",
   "mimetype": "text/x-python",
   "name": "python",
   "nbconvert_exporter": "python",
   "pygments_lexer": "ipython3",
   "version": "3.8.6"
  },
  "latex_envs": {
   "LaTeX_envs_menu_present": true,
   "autoclose": false,
   "autocomplete": true,
   "bibliofile": "biblio.bib",
   "cite_by": "apalike",
   "current_citInitial": 1,
   "eqLabelWithNumbers": true,
   "eqNumInitial": 1,
   "hotkeys": {
    "equation": "Ctrl-E",
    "itemize": "Ctrl-I"
   },
   "labels_anchors": false,
   "latex_user_defs": false,
   "report_style_numbering": false,
   "user_envs_cfg": false
  },
  "nteract": {
   "version": "0.12.3"
  }
 },
 "nbformat": 4,
 "nbformat_minor": 2
}
